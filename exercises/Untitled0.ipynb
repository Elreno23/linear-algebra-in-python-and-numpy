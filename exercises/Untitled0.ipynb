{
  "nbformat": 4,
  "nbformat_minor": 0,
  "metadata": {
    "colab": {
      "provenance": []
    },
    "kernelspec": {
      "name": "python3",
      "display_name": "Python 3"
    },
    "language_info": {
      "name": "python"
    }
  },
  "cells": [
    {
      "cell_type": "code",
      "execution_count": 1,
      "metadata": {
        "colab": {
          "base_uri": "https://localhost:8080/"
        },
        "id": "FwNm-DgH86Z0",
        "outputId": "5eb0f7e9-a533-4693-9248-e839821362ce"
      },
      "outputs": [
        {
          "output_type": "stream",
          "name": "stdout",
          "text": [
            "Cloning into 'linear-algebra-in-python-and-numpy'...\n",
            "remote: Enumerating objects: 249, done.\u001b[K\n",
            "remote: Counting objects: 100% (249/249), done.\u001b[K\n",
            "remote: Compressing objects: 100% (172/172), done.\u001b[K\n",
            "remote: Total 249 (delta 118), reused 161 (delta 56), pack-reused 0 (from 0)\u001b[K\n",
            "Receiving objects: 100% (249/249), 1.54 MiB | 6.81 MiB/s, done.\n",
            "Resolving deltas: 100% (118/118), done.\n"
          ]
        }
      ],
      "source": [
        "!git clone https://github.com/4GeeksAcademy/linear-algebra-in-python-and-numpy"
      ]
    },
    {
      "cell_type": "markdown",
      "source": [
        "01-vector-representation"
      ],
      "metadata": {
        "id": "kmEO78J29zdD"
      }
    },
    {
      "cell_type": "code",
      "source": [
        "import numpy as np  # Import NumPy to use it later\n",
        "\n",
        "def create_vector(lst, mode=\"pure\"):\n",
        "    \"\"\"\n",
        "    Converts a list into a vector in pure Python or in NumPy.\n",
        "\n",
        "    Parameters:\n",
        "    - lst: list -> List of numbers that will form the vector.\n",
        "    - mode: str -> \"pure\" for normal list, \"numpy\" for NumPy array.\n",
        "\n",
        "    Returns:\n",
        "    - A vector in the specified format.\n",
        "    \"\"\"\n",
        "    if mode == \"pure\":\n",
        "      return lst\n",
        "    elif mode == \"numpy\":\n",
        "      return np.array(lst)\n",
        "# Test the function with the following values:\n",
        "vector1 = create_vector([1, 2, 3], \"pure\")\n",
        "vector2 = create_vector([1, 2, 3], \"numpy\")\n",
        "\n",
        "print(\"Vector in pure Python:\", vector1)\n",
        "print(\"Vector in NumPy:\", vector2)"
      ],
      "metadata": {
        "colab": {
          "base_uri": "https://localhost:8080/"
        },
        "id": "au31IHOn93TL",
        "outputId": "ebc9ee54-8ef4-4ef0-a0b3-9b27e45efbde"
      },
      "execution_count": 2,
      "outputs": [
        {
          "output_type": "stream",
          "name": "stdout",
          "text": [
            "Vector in pure Python: [1, 2, 3]\n",
            "Vector in NumPy: [1 2 3]\n"
          ]
        }
      ]
    },
    {
      "cell_type": "markdown",
      "source": [
        "02-matrix-representation"
      ],
      "metadata": {
        "id": "QVXtNQWb_hV5"
      }
    },
    {
      "cell_type": "code",
      "source": [
        "import numpy as np  # Import NumPy to use it later\n",
        "import random  # To generate random values in pure Python\n",
        "\n",
        "def create_matrix(n, m, mode=\"pure\"):\n",
        "    \"\"\"\n",
        "    Generates an n x m matrix with random values.\n",
        "\n",
        "    Parameters:\n",
        "    - n: int -> Number of rows.\n",
        "    - m: int -> Number of columns.\n",
        "    - mode: str -> \"pure\" for Python lists, \"numpy\" for NumPy arrays.\n",
        "\n",
        "    Returns:\n",
        "    - A matrix in the specified format.\n",
        "    \"\"\"\n",
        "    if mode == \"pure\":\n",
        "      matriz = []\n",
        "      for _ in range(n):\n",
        "        rows = []\n",
        "        for _ in range(m):\n",
        "          rows.append(random.randint(0,100))\n",
        "        matriz.append(rows)\n",
        "      return matriz\n",
        "    elif mode == \"numpy\":\n",
        "      return np.random.randint(0,100, size=(n,m))\n",
        "\n",
        "\n",
        "\n",
        "# Test the function with the following values:\n",
        "matrix1 = create_matrix(3, 3, \"pure\")\n",
        "matrix2 = create_matrix(3, 3, \"numpy\")\n",
        "\n",
        "print(\"Matrix in pure Python:\", matrix1)\n",
        "print(\"Matrix in NumPy:\\n\", matrix2)"
      ],
      "metadata": {
        "colab": {
          "base_uri": "https://localhost:8080/"
        },
        "id": "TyLSTL0j_jbZ",
        "outputId": "73ce3a7b-fd37-43ca-b294-557673e3b353"
      },
      "execution_count": 3,
      "outputs": [
        {
          "output_type": "stream",
          "name": "stdout",
          "text": [
            "Matrix in pure Python: [[80, 19, 2], [68, 78, 45], [15, 43, 92]]\n",
            "Matrix in NumPy:\n",
            " [[44 21 14]\n",
            " [85 93 68]\n",
            " [31 50 38]]\n"
          ]
        }
      ]
    },
    {
      "cell_type": "markdown",
      "source": [
        "03-vector-addition-and-subtraction"
      ],
      "metadata": {
        "id": "AMYsgnPxE3P9"
      }
    },
    {
      "cell_type": "code",
      "source": [
        "import numpy as np\n",
        "\n",
        "\n",
        "# vectors\n",
        "vector1 = [1, 2, 3]\n",
        "vector2 = [4, 5, 6]\n",
        "\n",
        "def sum_vectors(v1, v2, mode=\"pure\"):\n",
        "    \"\"\"\n",
        "    Computes the element-wise sum of two vectors.\n",
        "\n",
        "    Parameters:\n",
        "    - v1: list or np.array -> First vector.\n",
        "    - v2: list or np.array -> Second vector.\n",
        "    - mode: str -> \"pure\" for Python lists, \"numpy\" for NumPy arrays.\n",
        "\n",
        "    Returns:\n",
        "    - A vector with the element-wise sum.\n",
        "    \"\"\"\n",
        "    if mode == \"pure\":\n",
        "      if len(v1) == len(v2):\n",
        "        return [v1[i]+v2[i] for i in range(len(v1))]\n",
        "      else:\n",
        "        raise ValueError(\"No tienen la misma longitud!\")\n",
        "    if mode == \"numpy\":\n",
        "      return np.array(v1) + np.array(v2) if len(v1) == len(v2) else print(\"Error\")\n",
        "\n",
        "def subtract_vectors(v1, v2, mode=\"pure\"):\n",
        "    \"\"\"\n",
        "    Computes the element-wise subtraction of two vectors.\n",
        "\n",
        "    Parameters:\n",
        "    - v1: list or np.array -> First vector.\n",
        "    - v2: list or np.array -> Second vector.\n",
        "    - mode: str -> \"pure\" for Python lists, \"numpy\" for NumPy arrays.\n",
        "\n",
        "    Returns:\n",
        "    - A vector with the element-wise subtraction.\n",
        "    \"\"\"\n",
        "    if mode == \"pure\":\n",
        "      if len(v1) == len(v2):\n",
        "        return [v2[i]-v1[i] for i in range(len(v1))]\n",
        "      else:\n",
        "        raise ValueError(\"No tienen la misma longitud\")\n",
        "    if mode == \"numpy\":\n",
        "      return np.array(v2) - np.array(v1) if len(v1) == len(v2) else print(\"Error\")\n",
        "\n",
        "sum_result_pure = sum_vectors(vector1, vector2, \"pure\")\n",
        "sum_result_numpy = sum_vectors(vector1, vector2, \"numpy\")\n",
        "\n",
        "sub_result_pure = subtract_vectors(vector1, vector2, \"pure\")\n",
        "sub_result_numpy = subtract_vectors(vector1, vector2, \"numpy\")\n",
        "\n",
        "print(\"Sum in pure Python:\", sum_result_pure)\n",
        "print(\"Sum in NumPy:\", sum_result_numpy)\n",
        "print(\"Subtraction in pure Python:\", sub_result_pure)\n",
        "print(\"Subtraction in NumPy:\", sub_result_numpy)"
      ],
      "metadata": {
        "colab": {
          "base_uri": "https://localhost:8080/"
        },
        "id": "5-9Yv894E6ez",
        "outputId": "9ee85940-03f5-4bee-beca-49ce73c610f3"
      },
      "execution_count": 4,
      "outputs": [
        {
          "output_type": "stream",
          "name": "stdout",
          "text": [
            "Sum in pure Python: [5, 7, 9]\n",
            "Sum in NumPy: [5 7 9]\n",
            "Subtraction in pure Python: [3, 3, 3]\n",
            "Subtraction in NumPy: [3 3 3]\n"
          ]
        }
      ]
    },
    {
      "cell_type": "markdown",
      "source": [
        "04-dot-product-and-matrix-product"
      ],
      "metadata": {
        "id": "ZPKKDWxFMZDO"
      }
    },
    {
      "cell_type": "code",
      "source": [
        "import numpy as np\n",
        "\n",
        "# vectors and matrices\n",
        "vector1 = [1, 2, 3]\n",
        "vector2 = [4, 5, 6]\n",
        "\n",
        "matrix1 = [[1, 2], [3, 4]]\n",
        "matrix2 = [[5, 6], [7, 8]]\n",
        "\n",
        "def dot_product(v1, v2, mode=\"pure\"):\n",
        "    \"\"\"\n",
        "    Computes the dot product of two vectors.\n",
        "\n",
        "    Parameters:\n",
        "    - v1: list or np.array -> First vector.\n",
        "    - v2: list or np.array -> Second vector.\n",
        "    - mode: str -> \"pure\" for Python lists, \"numpy\" for NumPy arrays.\n",
        "\n",
        "    Returns:\n",
        "    - The dot product as a scalar value.\n",
        "    \"\"\"\n",
        "\n",
        "    pass  # Remove this line when implemented\n",
        "\n",
        "def matrix_product(A, B, mode=\"pure\"):\n",
        "    \"\"\"\n",
        "    Computes the product of two matrices.\n",
        "\n",
        "    Parameters:\n",
        "    - A: list of lists or np.array -> First matrix.\n",
        "    - B: list of lists or np.array -> Second matrix.\n",
        "    - mode: str -> \"pure\" for Python lists, \"numpy\" for NumPy arrays.\n",
        "\n",
        "    Returns:\n",
        "    - A matrix with the result of A * B.\n",
        "    \"\"\"\n",
        "    pass  # Remove this line when implemented\n",
        "\n",
        "\n",
        "dot_result_pure = dot_product(vector1, vector2, \"pure\")\n",
        "dot_result_numpy = dot_product(vector1, vector2, \"numpy\")\n",
        "\n",
        "\n",
        "matrix_result_pure = matrix_product(matrix1, matrix2, \"pure\")\n",
        "matrix_result_numpy = matrix_product(matrix1, matrix2, \"numpy\")\n",
        "\n",
        "print(\"Dot product in pure Python:\", dot_result_pure)\n",
        "print(\"Dot product in NumPy:\", dot_result_numpy)\n",
        "print(\"Matrix product in pure Python:\", matrix_result_pure)\n",
        "print(\"Matrix product in NumPy:\", matrix_result_numpy)"
      ],
      "metadata": {
        "colab": {
          "base_uri": "https://localhost:8080/"
        },
        "id": "K8a3sKG9MagE",
        "outputId": "c1be1bfa-ff76-4c06-d498-ed5781155ab3"
      },
      "execution_count": 5,
      "outputs": [
        {
          "output_type": "stream",
          "name": "stdout",
          "text": [
            "Dot product in pure Python: None\n",
            "Dot product in NumPy: None\n",
            "Matrix product in pure Python: None\n",
            "Matrix product in NumPy: None\n"
          ]
        }
      ]
    },
    {
      "cell_type": "markdown",
      "source": [
        "05-matrix-transposition"
      ],
      "metadata": {
        "id": "j1gveIY-kaTm"
      }
    },
    {
      "cell_type": "code",
      "source": [
        "import numpy as np\n",
        "\n",
        "def transpose(matrix, mode=\"pure\"):\n",
        "    \"\"\"\n",
        "    Computes the transpose of a matrix.\n",
        "\n",
        "    Parameters:\n",
        "    - matrix: list of lists or np.array -> Matrix to transpose.\n",
        "    - mode: str -> \"pure\" for Python lists, \"numpy\" for NumPy arrays.\n",
        "\n",
        "    Returns:\n",
        "    - The transposed matrix.\n",
        "    \"\"\"\n",
        "\n",
        "    if mode == \"pure\":\n",
        "        transpuesta = []\n",
        "        for _ in range(len(matrix[0])):\n",
        "          transpuesta.append([])\n",
        "        for fila in matrix:\n",
        "          for j in range(len(fila)):\n",
        "            transpuesta[j].append(fila[j])\n",
        "\n",
        "        return transpuesta\n",
        "    if mode == \"numpy\":\n",
        "      transpuesta2 = np.array(matrix)\n",
        "      return transpuesta2.T\n",
        "\n",
        "matrix = [[1, 2, 3],\n",
        "          [4, 5, 6]]\n",
        "\n",
        "print(transpose(matrix, \"pure\"))\n",
        "print(transpose(matrix, \"numpy\"))\n",
        "\n"
      ],
      "metadata": {
        "colab": {
          "base_uri": "https://localhost:8080/"
        },
        "id": "S8ANXa0Vkdn9",
        "outputId": "5a82f0db-d8b4-49f0-d549-a1fc2af19e06"
      },
      "execution_count": 74,
      "outputs": [
        {
          "output_type": "stream",
          "name": "stdout",
          "text": [
            "[[1, 4], [2, 5], [3, 6]]\n",
            "[[1 4]\n",
            " [2 5]\n",
            " [3 6]]\n"
          ]
        }
      ]
    },
    {
      "cell_type": "markdown",
      "source": [
        "06-determinants-and-inverses"
      ],
      "metadata": {
        "id": "tkcfYMNs14uF"
      }
    },
    {
      "cell_type": "code",
      "source": [
        "import numpy as np\n",
        "\n",
        "def determinant(matrix, mode=\"pure\"):\n",
        "    \"\"\"\n",
        "    Computes the determinant of a square matrix.\n",
        "\n",
        "    Parameters:\n",
        "    - matrix: list of lists or np.array -> Matrix to compute determinant.\n",
        "    - mode: str -> \"pure\" for Python lists, \"numpy\" for NumPy arrays.\n",
        "\n",
        "    Returns:\n",
        "    - The determinant value.\n",
        "    \"\"\"\n",
        "\n",
        "    if mode == \"pure\":\n",
        "      determinante = matrix[0][0] * matrix[1][1] - matrix[0][1] * matrix[1][0]\n",
        "      return determinante\n",
        "    if mode == \"numpy\":\n",
        "      return np.linalg.det(matrix)\n",
        "\n",
        "\n",
        "def inverse_matrix(matrix, mode=\"pure\"):\n",
        "    \"\"\"\n",
        "    Computes the inverse of a square matrix.\n",
        "\n",
        "    Parameters:\n",
        "    - matrix: list of lists or np.array -> Matrix to compute inverse.\n",
        "    - mode: str -> \"pure\" for Python lists, \"numpy\" for NumPy arrays.\n",
        "\n",
        "    Returns:\n",
        "    - The inverse matrix or a message if it doesn't exist.\n",
        "    \"\"\"\n",
        "    if mode == \"pure\":\n",
        "      det = determinant(matrix,\"pure\")\n",
        "      if det == 0:\n",
        "        return \"La matriz no tiene inversa\"\n",
        "      return [[matrix[1][1]/det, -matrix[0][1]/det],\n",
        "          [-matrix[1][0]/det, matrix[0][0]/det]]\n",
        "    if mode == \"numpy\":\n",
        "      return np.linalg.inv(matrix)\n",
        "\n",
        "\n",
        "\n",
        "matrix = [[1, 2],\n",
        "          [3, 4]]\n",
        "\n",
        "print(determinant(matrix, \"pure\"))\n",
        "print(determinant(matrix, \"numpy\"))\n",
        "print(inverse_matrix(matrix, \"pure\"))\n",
        "print(inverse_matrix(matrix, \"numpy\"))\n"
      ],
      "metadata": {
        "colab": {
          "base_uri": "https://localhost:8080/"
        },
        "id": "_9XUMQ2G16Fj",
        "outputId": "9e4c8cfd-8e35-4f09-9ba4-ad43c9483d34"
      },
      "execution_count": 84,
      "outputs": [
        {
          "output_type": "stream",
          "name": "stdout",
          "text": [
            "-2\n",
            "-2.0000000000000004\n",
            "[[-2.0, 1.0], [1.5, -0.5]]\n",
            "[[-2.   1. ]\n",
            " [ 1.5 -0.5]]\n"
          ]
        }
      ]
    },
    {
      "cell_type": "markdown",
      "source": [
        "07-solving-systems-of-linear-equations"
      ],
      "metadata": {
        "id": "WPmPIrpxHFWC"
      }
    },
    {
      "cell_type": "code",
      "source": [
        "import numpy as np\n",
        "\n",
        "def solve_system(A, b, mode=\"numpy\"):\n",
        "    \"\"\"\n",
        "    Solves the linear system Ax = b.\n",
        "\n",
        "    Parameters:\n",
        "    - A: list of lists or np.array -> Coefficient matrix.\n",
        "    - b: list or np.array -> Result vector.\n",
        "    - mode: str -> \"pure\" for manual computation, \"numpy\" for np.linalg.solve().\n",
        "\n",
        "    Returns:\n",
        "    - The solution vector x.\n",
        "    \"\"\"\n",
        "    if mode == \"pure\":\n",
        "      det = determinant(A, \"pure\")\n",
        "      if det == 0:\n",
        "        return f\"La matriz no tiene inversa\"\n",
        "      inv = inverse_matrix(A,\"pure\")\n",
        "      x = [\n",
        "          inv[0][0]*b[0] + inv[0][1]*b[1],\n",
        "          inv[1][0]*b[0] + inv[1][1]*b[1]\n",
        "      ]\n",
        "      return f\"Pythonic: {x}\"\n",
        "    if mode == \"numpy\":\n",
        "      x = np.linalg.solve(A,b)\n",
        "      return f\"Numpy: {x}\"\n",
        "\n",
        "A = [[2, 3], [4, -1]]\n",
        "b = [5, 1]\n",
        "\n",
        "print(solve_system(A, b, \"pure\"))\n",
        "print(solve_system(A, b, \"numpy\"))\n",
        "\n"
      ],
      "metadata": {
        "colab": {
          "base_uri": "https://localhost:8080/"
        },
        "id": "ms9Ga1XRHGvP",
        "outputId": "2c67ff73-46e4-4e30-c6b5-892e2d48f2a7"
      },
      "execution_count": 99,
      "outputs": [
        {
          "output_type": "stream",
          "name": "stdout",
          "text": [
            "Pythonic: [0.5714285714285714, 1.2857142857142856]\n",
            "Numpy: [0.57142857 1.28571429]\n"
          ]
        }
      ]
    },
    {
      "cell_type": "markdown",
      "source": [
        "08-eigenvalues-and-eigenvectors"
      ],
      "metadata": {
        "id": "GYtAz0G2Zxpd"
      }
    },
    {
      "cell_type": "code",
      "source": [
        "import numpy as np\n",
        "\n",
        "def compute_eigen(A, mode=\"numpy\"):\n",
        "    \"\"\"\n",
        "    Computes the eigenvalues and eigenvectors of a square matrix.\n",
        "\n",
        "    Parameters:\n",
        "    - A: list of lists or np.array -> Square matrix.\n",
        "    - mode: str -> \"pure\" for manual calculation, \"numpy\" for np.linalg.eig().\n",
        "\n",
        "    Returns:\n",
        "    - List of eigenvalues (and eigenvectors if mode=\"numpy\").\n",
        "    \"\"\"\n",
        "\n",
        "    if mode == \"pure\":\n",
        "      a,b = A[0]\n",
        "      c,d = A[1]\n",
        "\n",
        "      lambda1 = ((a+d)+((a+d)**2-4*(a*d-b*c))**0.5)/2\n",
        "      lambda2 = ((a+d)-((a+d)**2-4*(a*d-b*c))**0.5)/2\n",
        "\n",
        "      return f\"Pythonic: {[lambda1,lambda2]}\"\n",
        "    if mode == \"numpy\":\n",
        "      autovalores, autovectores = np.linalg.eig(A)\n",
        "      return f\"autovalores: {autovalores} autovectores: {autovectores}\"\n",
        "\n",
        "\n",
        "A = [\n",
        "    [3, 2],\n",
        "    [1, 4]\n",
        "    ]\n",
        "print(compute_eigen(A, \"pure\"))\n",
        "print(compute_eigen(A, \"numpy\"))\n",
        "\n"
      ],
      "metadata": {
        "colab": {
          "base_uri": "https://localhost:8080/"
        },
        "id": "AfQcbLNzZ00b",
        "outputId": "b78bbdab-00ab-4868-aa6c-ed4727389800"
      },
      "execution_count": 107,
      "outputs": [
        {
          "output_type": "stream",
          "name": "stdout",
          "text": [
            "Pythonic: [5.0, 2.0]\n",
            "autovalores: [2. 5.] autovectores: [[-0.89442719 -0.70710678]\n",
            " [ 0.4472136  -0.70710678]]\n"
          ]
        }
      ]
    }
  ]
}